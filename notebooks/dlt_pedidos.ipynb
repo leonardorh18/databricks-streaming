{
 "cells": [
  {
   "cell_type": "code",
   "execution_count": 0,
   "metadata": {
    "application/vnd.databricks.v1+cell": {
     "cellMetadata": {},
     "inputWidgets": {},
     "nuid": "074fcb8a-c0d7-40c4-8a51-4fb38430ff86",
     "showTitle": false,
     "title": ""
    }
   },
   "outputs": [],
   "source": [
    "from pyspark.sql.functions import *\n",
    "from pyspark.sql.types import *\n",
    "import dlt"
   ]
  },
  {
   "cell_type": "code",
   "execution_count": 0,
   "metadata": {
    "application/vnd.databricks.v1+cell": {
     "cellMetadata": {},
     "inputWidgets": {},
     "nuid": "2c051f78-b3d9-428b-b2d0-addc63c90693",
     "showTitle": false,
     "title": ""
    }
   },
   "outputs": [],
   "source": [
    "from pyspark.sql.functions import expr\n",
    "\n",
    "rules = {}\n",
    "\"\"\" \n",
    "Definindo algumas regras de data quality APENAS DE EXEMPLO\n",
    "as linhas que não passarem nas regras abaixo serão flagadas como quarantine = True, depois disso, é possível criar algum outro processo para tomar alguma ação com base nessas linhas ou separa-las em tabelas diferentes\n",
    "\"\"\"\n",
    "rules[\"valid_transaction\"] = \"(TransactionNo is not null)\"\n",
    "rules[\"valid_date\"] = \"(Date is not null)\"\n",
    "quarantine_rules = \"NOT({0})\".format(\" AND \".join(rules.values()))"
   ]
  },
  {
   "cell_type": "code",
   "execution_count": 0,
   "metadata": {
    "application/vnd.databricks.v1+cell": {
     "cellMetadata": {},
     "inputWidgets": {},
     "nuid": "3fe9a4cf-6458-4ea9-a3d4-a94da73d1262",
     "showTitle": false,
     "title": ""
    }
   },
   "outputs": [],
   "source": [
    "@dlt.table(\n",
    "  name = 'bronze_str_pedidos',\n",
    "  comment=\"ingestão da camada bronze tabela streaming pedidos\",\n",
    "  table_properties={\n",
    "    \"JuntosSomosMais.quality\": \"bronze\",\n",
    "    \"pipelines.autoOptimize.managed\": \"true\"\n",
    "  }\n",
    ")\n",
    "#leitura dos arquivos que caem no diretorio em streaming\n",
    "def bronze_str_pedidos():\n",
    "  df = spark.readStream.format(\"cloudFiles\") \\\n",
    "      .option(\"cloudFiles.format\", \"csv\") \\\n",
    "      .option(\"cloudFiles.inferColumnTypes\", \"true\") \\\n",
    "      .load(\"dbfs:/FileStore/tables/\") # TROCAR PELO DIRETÓRIO ONDE O EVENT HUB COLOCA OS ARQUIVOS\n",
    "  df = df.selectExpr('*').withColumn('is_quarantined', expr(quarantine_rules))\n",
    "  return df"
   ]
  },
  {
   "cell_type": "code",
   "execution_count": 0,
   "metadata": {
    "application/vnd.databricks.v1+cell": {
     "cellMetadata": {},
     "inputWidgets": {},
     "nuid": "04fcf6d1-2bfa-4a2e-ab63-657dcfa8c402",
     "showTitle": false,
     "title": "Create Silver"
    }
   },
   "outputs": [],
   "source": [
    "\n",
    "# construcao da silver\n",
    "@dlt.table(\n",
    "  name = 'silver_str_pedidos',\n",
    "  comment=\"Processamento da camada silver tabela streaming pedidos\",\n",
    "  table_properties={\n",
    "    \"JuntosSomosMais.quality\": \"silver\",\n",
    "    \"pipelines.autoOptimize.managed\": \"true\"\n",
    "  }\n",
    ")\n",
    "@dlt.expect_all(rules)\n",
    "def silver_str_pedidos():\n",
    "  df = dlt.read_stream(\"bronze_str_pedidos\")\n",
    "  df = df.filter(expr(\"is_quarantined = false\")).drop('is_quarantined') # apenas linhas 'boas' para evitar problema nas analises\n",
    "  # aqui podemos adicionar algum tratamento, join, cast, etc...\n",
    "  return df"
   ]
  },
  {
   "cell_type": "code",
   "execution_count": 0,
   "metadata": {
    "application/vnd.databricks.v1+cell": {
     "cellMetadata": {},
     "inputWidgets": {},
     "nuid": "87ddb990-a781-46f2-9fbe-986d52496126",
     "showTitle": false,
     "title": ""
    }
   },
   "outputs": [],
   "source": [
    "# construcao da camada gold com base nas regras de negocios, KPIs, etc.."
   ]
  }
 ],
 "metadata": {
  "application/vnd.databricks.v1+notebook": {
   "dashboards": [],
   "environmentMetadata": null,
   "language": "python",
   "notebookMetadata": {
    "mostRecentlyExecutedCommandWithImplicitDF": {
     "commandId": 4250001882546080,
     "dataframes": [
      "_sqldf"
     ]
    },
    "pythonIndentUnit": 4
   },
   "notebookName": "dlt_pedidos",
   "widgets": {}
  }
 },
 "nbformat": 4,
 "nbformat_minor": 0
}
